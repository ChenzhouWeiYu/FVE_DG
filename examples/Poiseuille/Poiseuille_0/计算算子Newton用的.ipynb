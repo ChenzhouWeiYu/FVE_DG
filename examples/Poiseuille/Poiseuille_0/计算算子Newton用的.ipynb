{
 "cells": [
  {
   "cell_type": "code",
   "execution_count": 4,
   "id": "69c1381c-44c6-4b3e-9d29-0d015874348b",
   "metadata": {
    "tags": []
   },
   "outputs": [
    {
     "data": {
      "text/plain": [
       "'0,0,0,0,0,rho*(2*drho_dx*rho_w + 2*drho_dz*rho_u - rho*(drhou_dz + drhow_dx)),-drho_dz*pow(rho, 2),0,-drho_dx*pow(rho, 2),0,rho*(2*drho_dy*rho_w + 2*drho_dz*rho_v - rho*(drhov_dz + drhow_dy)),0,-drho_dz*pow(rho, 2),-drho_dy*pow(rho, 2),0,-2.0/3.0*rho*(2*drho_dx*rho_u + 2*drho_dy*rho_v - 4*drho_dz*rho_w - rho*(drhou_dx + drhov_dy - 2*drhow_dz)),(2.0/3.0)*drho_dx*pow(rho, 2),(2.0/3.0)*drho_dy*pow(rho, 2),-4.0/3.0*drho_dz*pow(rho, 2),0,-Const*drhoe_dz*pow(rho, 2) + drho_dx*rho_u*rho_w + drho_dy*rho_v*rho_w - 3*drho_dz*pow(rho_u, 2)*(Const - 1) - 3*drho_dz*pow(rho_v, 2)*(Const - 1) - drho_dz*pow(rho_w, 2)*(3*Const - 4) + (2.0/3.0)*rho*(3*Const*drho_dz*rho_e + 3*Const*drhov_dz*rho_v + 3*Const*drhow_dz*rho_w + 2*drhou_dx*rho_w + 2*drhov_dy*rho_w - 3*drhov_dz*rho_v - 3*drhow_dy*rho_v - 4*drhow_dz*rho_w + 3*rho_u*(drhou_dz*(Const - 1) - drhow_dx)),-1.0/3.0*rho*(drho_dx*rho_w - 6*drho_dz*rho_u*(Const - 1) + 3*rho*(drhou_dz*(Const - 1) - drhow_dx)),-1.0/3.0*rho*(drho_dy*rho_w - 6*drho_dz*rho_v*(Const - 1) + 3*rho*(drhov_dz*(Const - 1) - drhow_dy)),-1.0/3.0*rho*(drho_dx*rho_u + drho_dy*rho_v - 2*drho_dz*rho_w*(3*Const - 4) + rho*(2*drhou_dx + 2*drhov_dy + drhow_dz*(3*Const - 4))),-Const*drho_dz*pow(rho, 2)'"
      ]
     },
     "execution_count": 4,
     "metadata": {},
     "output_type": "execute_result"
    }
   ],
   "source": [
    "import sympy as sp\n",
    "replacements = {\n",
    "    r'\\[Rho][x,y,z]': 'rho',\n",
    "    r'\\[Rho]u[x,y,z]': 'rho_u',\n",
    "    r'\\[Rho]v[x,y,z]': 'rho_v',\n",
    "    r'\\[Rho]w[x,y,z]': 'rho_w',\n",
    "    r'\\[Rho]e[x,y,z]': 'rho_e',\n",
    "    r'(\\[Rho]^(0,0,1))[x,y,z]': 'drho_dz',\n",
    "    r'(\\[Rho]^(0,1,0))[x,y,z]': 'drho_dy',\n",
    "    r'(\\[Rho]^(1,0,0))[x,y,z]': 'drho_dx',\n",
    "    r'(\\[Rho]u^(0,0,1))[x,y,z]': 'drhou_dz',\n",
    "    r'(\\[Rho]u^(0,1,0))[x,y,z]': 'drhou_dy',\n",
    "    r'(\\[Rho]u^(1,0,0))[x,y,z]': 'drhou_dx',\n",
    "    r'(\\[Rho]v^(0,0,1))[x,y,z]': 'drhov_dz',\n",
    "    r'(\\[Rho]v^(0,1,0))[x,y,z]': 'drhov_dy',\n",
    "    r'(\\[Rho]v^(1,0,0))[x,y,z]': 'drhov_dx',\n",
    "    r'(\\[Rho]w^(0,0,1))[x,y,z]': 'drhow_dz',\n",
    "    r'(\\[Rho]w^(0,1,0))[x,y,z]': 'drhow_dy',\n",
    "    r'(\\[Rho]w^(1,0,0))[x,y,z]': 'drhow_dx',\n",
    "    r'(\\[Rho]e^(0,0,1))[x,y,z]': 'drhoe_dz',\n",
    "    r'(\\[Rho]e^(0,1,0))[x,y,z]': 'drhoe_dy',\n",
    "    r'(\\[Rho]e^(1,0,0))[x,y,z]': 'drhoe_dx',\n",
    "    r'Const__': 'Const'\n",
    "}\n",
    "\n",
    "matrix_x = \"\"\"{{0,0,0,0,0},{2/3 \\[Rho][x,y,z] (-2 \\[Rho]w[x,y,z] (\\[Rho]^(0,0,1))[x,y,z]-2 \\[Rho]v[x,y,z] (\\[Rho]^(0,1,0))[x,y,z]+4 \\[Rho]u[x,y,z] (\\[Rho]^(1,0,0))[x,y,z]+\\[Rho][x,y,z] ((\\[Rho]w^(0,0,1))[x,y,z]+(\\[Rho]v^(0,1,0))[x,y,z]-2 (\\[Rho]u^(1,0,0))[x,y,z])),-(4/3) \\[Rho][x,y,z]^2 (\\[Rho]^(1,0,0))[x,y,z],2/3 \\[Rho][x,y,z]^2 (\\[Rho]^(0,1,0))[x,y,z],2/3 \\[Rho][x,y,z]^2 (\\[Rho]^(0,0,1))[x,y,z],0},{\\[Rho][x,y,z] (2 \\[Rho]u[x,y,z] (\\[Rho]^(0,1,0))[x,y,z]+2 \\[Rho]v[x,y,z] (\\[Rho]^(1,0,0))[x,y,z]-\\[Rho][x,y,z] ((\\[Rho]u^(0,1,0))[x,y,z]+(\\[Rho]v^(1,0,0))[x,y,z])),-\\[Rho][x,y,z]^2 (\\[Rho]^(0,1,0))[x,y,z],-\\[Rho][x,y,z]^2 (\\[Rho]^(1,0,0))[x,y,z],0,0},{\\[Rho][x,y,z] (2 \\[Rho]u[x,y,z] (\\[Rho]^(0,0,1))[x,y,z]+2 \\[Rho]w[x,y,z] (\\[Rho]^(1,0,0))[x,y,z]-\\[Rho][x,y,z] ((\\[Rho]u^(0,0,1))[x,y,z]+(\\[Rho]w^(1,0,0))[x,y,z])),-\\[Rho][x,y,z]^2 (\\[Rho]^(0,0,1))[x,y,z],0,-\\[Rho][x,y,z]^2 (\\[Rho]^(1,0,0))[x,y,z],0},{(4-3 Const) \\[Rho]u[x,y,z]^2 (\\[Rho]^(1,0,0))[x,y,z]-3 (-1+Const) (\\[Rho]v[x,y,z]^2+\\[Rho]w[x,y,z]^2) (\\[Rho]^(1,0,0))[x,y,z]-Const \\[Rho][x,y,z]^2 (\\[Rho]e^(1,0,0))[x,y,z]+1/3 \\[Rho]u[x,y,z] (3 \\[Rho]w[x,y,z] (\\[Rho]^(0,0,1))[x,y,z]+3 \\[Rho]v[x,y,z] (\\[Rho]^(0,1,0))[x,y,z]+\\[Rho][x,y,z] (4 (\\[Rho]w^(0,0,1))[x,y,z]+4 (\\[Rho]v^(0,1,0))[x,y,z]+2 (-4+3 Const) (\\[Rho]u^(1,0,0))[x,y,z]))-2 \\[Rho][x,y,z] (-Const \\[Rho]e[x,y,z] (\\[Rho]^(1,0,0))[x,y,z]+\\[Rho]v[x,y,z] ((\\[Rho]u^(0,1,0))[x,y,z]-(-1+Const) (\\[Rho]v^(1,0,0))[x,y,z])+\\[Rho]w[x,y,z] ((\\[Rho]u^(0,0,1))[x,y,z]-(-1+Const) (\\[Rho]w^(1,0,0))[x,y,z])),-(1/3) \\[Rho][x,y,z] (\\[Rho]w[x,y,z] (\\[Rho]^(0,0,1))[x,y,z]+\\[Rho]v[x,y,z] (\\[Rho]^(0,1,0))[x,y,z]+8 \\[Rho]u[x,y,z] (\\[Rho]^(1,0,0))[x,y,z]-6 Const \\[Rho]u[x,y,z] (\\[Rho]^(1,0,0))[x,y,z]+\\[Rho][x,y,z] (2 (\\[Rho]w^(0,0,1))[x,y,z]+2 (\\[Rho]v^(0,1,0))[x,y,z]+(-4+3 Const) (\\[Rho]u^(1,0,0))[x,y,z])),1/3 \\[Rho][x,y,z] (-\\[Rho]u[x,y,z] (\\[Rho]^(0,1,0))[x,y,z]+6 (-1+Const) \\[Rho]v[x,y,z] (\\[Rho]^(1,0,0))[x,y,z]+3 \\[Rho][x,y,z] ((\\[Rho]u^(0,1,0))[x,y,z]-(-1+Const) (\\[Rho]v^(1,0,0))[x,y,z])),1/3 \\[Rho][x,y,z] (-\\[Rho]u[x,y,z] (\\[Rho]^(0,0,1))[x,y,z]+6 (-1+Const) \\[Rho]w[x,y,z] (\\[Rho]^(1,0,0))[x,y,z]+3 \\[Rho][x,y,z] ((\\[Rho]u^(0,0,1))[x,y,z]-(-1+Const) (\\[Rho]w^(1,0,0))[x,y,z])),-Const \\[Rho][x,y,z]^2 (\\[Rho]^(1,0,0))[x,y,z]}}\"\"\"\n",
    "matrix_y = \"\"\"{{0,0,0,0,0},{\\[Rho][x,y,z] (2 \\[Rho]u[x,y,z] (\\[Rho]^(0,1,0))[x,y,z]+2 \\[Rho]v[x,y,z] (\\[Rho]^(1,0,0))[x,y,z]-\\[Rho][x,y,z] ((\\[Rho]u^(0,1,0))[x,y,z]+(\\[Rho]v^(1,0,0))[x,y,z])),-\\[Rho][x,y,z]^2 (\\[Rho]^(0,1,0))[x,y,z],-\\[Rho][x,y,z]^2 (\\[Rho]^(1,0,0))[x,y,z],0,0},{2/3 \\[Rho][x,y,z] (-2 \\[Rho]w[x,y,z] (\\[Rho]^(0,0,1))[x,y,z]+4 \\[Rho]v[x,y,z] (\\[Rho]^(0,1,0))[x,y,z]-2 \\[Rho]u[x,y,z] (\\[Rho]^(1,0,0))[x,y,z]+\\[Rho][x,y,z] ((\\[Rho]w^(0,0,1))[x,y,z]-2 (\\[Rho]v^(0,1,0))[x,y,z]+(\\[Rho]u^(1,0,0))[x,y,z])),2/3 \\[Rho][x,y,z]^2 (\\[Rho]^(1,0,0))[x,y,z],-(4/3) \\[Rho][x,y,z]^2 (\\[Rho]^(0,1,0))[x,y,z],2/3 \\[Rho][x,y,z]^2 (\\[Rho]^(0,0,1))[x,y,z],0},{\\[Rho][x,y,z] (2 \\[Rho]v[x,y,z] (\\[Rho]^(0,0,1))[x,y,z]+2 \\[Rho]w[x,y,z] (\\[Rho]^(0,1,0))[x,y,z]-\\[Rho][x,y,z] ((\\[Rho]v^(0,0,1))[x,y,z]+(\\[Rho]w^(0,1,0))[x,y,z])),0,-\\[Rho][x,y,z]^2 (\\[Rho]^(0,0,1))[x,y,z],-\\[Rho][x,y,z]^2 (\\[Rho]^(0,1,0))[x,y,z],0},{(4-3 Const) \\[Rho]v[x,y,z]^2 (\\[Rho]^(0,1,0))[x,y,z]-3 (-1+Const) (\\[Rho]u[x,y,z]^2+\\[Rho]w[x,y,z]^2) (\\[Rho]^(0,1,0))[x,y,z]-Const \\[Rho][x,y,z]^2 (\\[Rho]e^(0,1,0))[x,y,z]+1/3 \\[Rho]v[x,y,z] (3 \\[Rho]w[x,y,z] (\\[Rho]^(0,0,1))[x,y,z]+3 \\[Rho]u[x,y,z] (\\[Rho]^(1,0,0))[x,y,z]+\\[Rho][x,y,z] (4 (\\[Rho]w^(0,0,1))[x,y,z]+(-8+6 Const) (\\[Rho]v^(0,1,0))[x,y,z]+4 (\\[Rho]u^(1,0,0))[x,y,z]))-2 \\[Rho][x,y,z] (-Const \\[Rho]e[x,y,z] (\\[Rho]^(0,1,0))[x,y,z]+\\[Rho]w[x,y,z] ((\\[Rho]v^(0,0,1))[x,y,z]-(-1+Const) (\\[Rho]w^(0,1,0))[x,y,z])+\\[Rho]u[x,y,z] (-(-1+Const) (\\[Rho]u^(0,1,0))[x,y,z]+(\\[Rho]v^(1,0,0))[x,y,z])),-(1/3) \\[Rho][x,y,z] (-6 (-1+Const) \\[Rho]u[x,y,z] (\\[Rho]^(0,1,0))[x,y,z]+\\[Rho]v[x,y,z] (\\[Rho]^(1,0,0))[x,y,z]+3 \\[Rho][x,y,z] ((-1+Const) (\\[Rho]u^(0,1,0))[x,y,z]-(\\[Rho]v^(1,0,0))[x,y,z])),-(1/3) \\[Rho][x,y,z] (\\[Rho]w[x,y,z] (\\[Rho]^(0,0,1))[x,y,z]+8 \\[Rho]v[x,y,z] (\\[Rho]^(0,1,0))[x,y,z]-6 Const \\[Rho]v[x,y,z] (\\[Rho]^(0,1,0))[x,y,z]+\\[Rho]u[x,y,z] (\\[Rho]^(1,0,0))[x,y,z]+\\[Rho][x,y,z] (2 (\\[Rho]w^(0,0,1))[x,y,z]+(-4+3 Const) (\\[Rho]v^(0,1,0))[x,y,z]+2 (\\[Rho]u^(1,0,0))[x,y,z])),1/3 \\[Rho][x,y,z] (-\\[Rho]v[x,y,z] (\\[Rho]^(0,0,1))[x,y,z]+6 (-1+Const) \\[Rho]w[x,y,z] (\\[Rho]^(0,1,0))[x,y,z]+3 \\[Rho][x,y,z] ((\\[Rho]v^(0,0,1))[x,y,z]-(-1+Const) (\\[Rho]w^(0,1,0))[x,y,z])),-Const \\[Rho][x,y,z]^2 (\\[Rho]^(0,1,0))[x,y,z]}}\"\"\"\n",
    "matrix_z = \"\"\"{{0,0,0,0,0},{\\[Rho][x,y,z] (2 \\[Rho]u[x,y,z] (\\[Rho]^(0,0,1))[x,y,z]+2 \\[Rho]w[x,y,z] (\\[Rho]^(1,0,0))[x,y,z]-\\[Rho][x,y,z] ((\\[Rho]u^(0,0,1))[x,y,z]+(\\[Rho]w^(1,0,0))[x,y,z])),-\\[Rho][x,y,z]^2 (\\[Rho]^(0,0,1))[x,y,z],0,-\\[Rho][x,y,z]^2 (\\[Rho]^(1,0,0))[x,y,z],0},{\\[Rho][x,y,z] (2 \\[Rho]v[x,y,z] (\\[Rho]^(0,0,1))[x,y,z]+2 \\[Rho]w[x,y,z] (\\[Rho]^(0,1,0))[x,y,z]-\\[Rho][x,y,z] ((\\[Rho]v^(0,0,1))[x,y,z]+(\\[Rho]w^(0,1,0))[x,y,z])),0,-\\[Rho][x,y,z]^2 (\\[Rho]^(0,0,1))[x,y,z],-\\[Rho][x,y,z]^2 (\\[Rho]^(0,1,0))[x,y,z],0},{2/3 \\[Rho][x,y,z] (4 \\[Rho]w[x,y,z] (\\[Rho]^(0,0,1))[x,y,z]-2 (\\[Rho]v[x,y,z] (\\[Rho]^(0,1,0))[x,y,z]+\\[Rho]u[x,y,z] (\\[Rho]^(1,0,0))[x,y,z])+\\[Rho][x,y,z] (-2 (\\[Rho]w^(0,0,1))[x,y,z]+(\\[Rho]v^(0,1,0))[x,y,z]+(\\[Rho]u^(1,0,0))[x,y,z])),2/3 \\[Rho][x,y,z]^2 (\\[Rho]^(1,0,0))[x,y,z],2/3 \\[Rho][x,y,z]^2 (\\[Rho]^(0,1,0))[x,y,z],-(4/3) \\[Rho][x,y,z]^2 (\\[Rho]^(0,0,1))[x,y,z],0},{-3 (-1+Const) \\[Rho]u[x,y,z]^2 (\\[Rho]^(0,0,1))[x,y,z]-3 (-1+Const) \\[Rho]v[x,y,z]^2 (\\[Rho]^(0,0,1))[x,y,z]+(4-3 Const) \\[Rho]w[x,y,z]^2 (\\[Rho]^(0,0,1))[x,y,z]-Const \\[Rho][x,y,z]^2 (\\[Rho]e^(0,0,1))[x,y,z]+\\[Rho]v[x,y,z] \\[Rho]w[x,y,z] (\\[Rho]^(0,1,0))[x,y,z]+\\[Rho]u[x,y,z] \\[Rho]w[x,y,z] (\\[Rho]^(1,0,0))[x,y,z]+1/3 \\[Rho][x,y,z] (6 Const \\[Rho]e[x,y,z] (\\[Rho]^(0,0,1))[x,y,z]-6 \\[Rho]v[x,y,z] (\\[Rho]v^(0,0,1))[x,y,z]+6 Const \\[Rho]v[x,y,z] (\\[Rho]v^(0,0,1))[x,y,z]-8 \\[Rho]w[x,y,z] (\\[Rho]w^(0,0,1))[x,y,z]+6 Const \\[Rho]w[x,y,z] (\\[Rho]w^(0,0,1))[x,y,z]+4 \\[Rho]w[x,y,z] (\\[Rho]v^(0,1,0))[x,y,z]-6 \\[Rho]v[x,y,z] (\\[Rho]w^(0,1,0))[x,y,z]+4 \\[Rho]w[x,y,z] (\\[Rho]u^(1,0,0))[x,y,z]+6 \\[Rho]u[x,y,z] ((-1+Const) (\\[Rho]u^(0,0,1))[x,y,z]-(\\[Rho]w^(1,0,0))[x,y,z])),-(1/3) \\[Rho][x,y,z] (-6 (-1+Const) \\[Rho]u[x,y,z] (\\[Rho]^(0,0,1))[x,y,z]+\\[Rho]w[x,y,z] (\\[Rho]^(1,0,0))[x,y,z]+3 \\[Rho][x,y,z] ((-1+Const) (\\[Rho]u^(0,0,1))[x,y,z]-(\\[Rho]w^(1,0,0))[x,y,z])),-(1/3) \\[Rho][x,y,z] (-6 (-1+Const) \\[Rho]v[x,y,z] (\\[Rho]^(0,0,1))[x,y,z]+\\[Rho]w[x,y,z] (\\[Rho]^(0,1,0))[x,y,z]+3 \\[Rho][x,y,z] ((-1+Const) (\\[Rho]v^(0,0,1))[x,y,z]-(\\[Rho]w^(0,1,0))[x,y,z])),-(1/3) \\[Rho][x,y,z] (2 (4-3 Const) \\[Rho]w[x,y,z] (\\[Rho]^(0,0,1))[x,y,z]+\\[Rho]v[x,y,z] (\\[Rho]^(0,1,0))[x,y,z]+\\[Rho]u[x,y,z] (\\[Rho]^(1,0,0))[x,y,z]+\\[Rho][x,y,z] ((-4+3 Const) (\\[Rho]w^(0,0,1))[x,y,z]+2 ((\\[Rho]v^(0,1,0))[x,y,z]+(\\[Rho]u^(1,0,0))[x,y,z]))),-Const \\[Rho][x,y,z]^2 (\\[Rho]^(0,0,1))[x,y,z]}}\"\"\"\n",
    "\n",
    "matrix_x = matrix_x.replace('{','').replace('}','')\n",
    "matrix_y = matrix_y.replace('{','').replace('}','')\n",
    "matrix_z = matrix_z.replace('{','').replace('}','')\n",
    "# print(matrix_x)\n",
    "\n",
    "matrix_x = matrix_z\n",
    "cpp_matrices = []\n",
    "for pattern, replacement in replacements.items():\n",
    "    matrix_x = matrix_x.replace(pattern,replacement)\n",
    "    \n",
    "for expr in matrix_x.split(','):\n",
    "    expr = sp.parsing.sympy_parser.parse_expr(expr,local_dict={'Const':sp.symbols('Const')},transformations=\"all\")\n",
    "    simplified_expr = sp.simplify(expr)\n",
    "    # print(expr)\n",
    "\n",
    "    # 转换为 C++ 表达式\n",
    "    cpp_expr = sp.ccode(simplified_expr)\n",
    "    cpp_matrices.append(cpp_expr)\n",
    "','.join(cpp_matrices)\n",
    "\n",
    "\n"
   ]
  },
  {
   "cell_type": "code",
   "execution_count": null,
   "id": "03783e09-e4ea-4681-b48b-1c8710172411",
   "metadata": {},
   "outputs": [],
   "source": []
  }
 ],
 "metadata": {
  "kernelspec": {
   "display_name": "Python 3 (ipykernel)",
   "language": "python",
   "name": "python3"
  },
  "language_info": {
   "codemirror_mode": {
    "name": "ipython",
    "version": 3
   },
   "file_extension": ".py",
   "mimetype": "text/x-python",
   "name": "python",
   "nbconvert_exporter": "python",
   "pygments_lexer": "ipython3",
   "version": "3.10.12"
  }
 },
 "nbformat": 4,
 "nbformat_minor": 5
}
