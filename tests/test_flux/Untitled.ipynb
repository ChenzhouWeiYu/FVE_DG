{
 "cells": [
  {
   "cell_type": "code",
   "execution_count": 7,
   "id": "031d580c-fc0f-4234-88d6-ca9342c50a44",
   "metadata": {},
   "outputs": [
    {
     "data": {
      "text/plain": [
       "150.79644737231007"
      ]
     },
     "execution_count": 7,
     "metadata": {},
     "output_type": "execute_result"
    }
   ],
   "source": [
    "import numpy as np\n",
    "import matplotlib as mpl\n",
    "import matplotlib.pyplot as plt\n",
    "\n",
    "R1 = 2.5\n",
    "S1 = R1**2*np.pi\n",
    "R2 = 4\n",
    "S2 = R2**2*np.pi - R1**2*np.pi\n",
    "R3 = 8\n",
    "S3 = R3**2*np.pi - R2**2*np.pi\n",
    "S3"
   ]
  },
  {
   "cell_type": "code",
   "execution_count": null,
   "id": "fa749ed9-373f-4411-a555-aca9e33bef03",
   "metadata": {},
   "outputs": [],
   "source": []
  }
 ],
 "metadata": {
  "kernelspec": {
   "display_name": "Python 3 (ipykernel)",
   "language": "python",
   "name": "python3"
  },
  "language_info": {
   "codemirror_mode": {
    "name": "ipython",
    "version": 3
   },
   "file_extension": ".py",
   "mimetype": "text/x-python",
   "name": "python",
   "nbconvert_exporter": "python",
   "pygments_lexer": "ipython3",
   "version": "3.10.12"
  }
 },
 "nbformat": 4,
 "nbformat_minor": 5
}
